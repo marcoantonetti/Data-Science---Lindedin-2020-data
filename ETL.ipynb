{
 "cells": [
  {
   "cell_type": "markdown",
   "metadata": {},
   "source": [
    "## ETL Extracción, transformación y cargadel dataset `linkedin_data_arabia_2020`"
   ]
  },
  {
   "cell_type": "markdown",
   "metadata": {},
   "source": [
    "### 1. Importacion de Librerías"
   ]
  },
  {
   "cell_type": "code",
   "execution_count": 1,
   "metadata": {},
   "outputs": [],
   "source": [
    "# Manipulacion de datos\n",
    "import pandas as pd\n",
    "import numpy as np\n",
    "\n",
    "#Visualizacion de Datos\n",
    "import matplotlib.pyplot as plt\n",
    "import seaborn as sns\n",
    "\n",
    "#helpers\n",
    "import ast"
   ]
  },
  {
   "cell_type": "markdown",
   "metadata": {},
   "source": [
    "### 2. Carga de datos"
   ]
  },
  {
   "cell_type": "code",
   "execution_count": 2,
   "metadata": {},
   "outputs": [],
   "source": [
    "#Lectura del archivo\n",
    "jobs = pd.read_csv(\"linkedin_data_arabia_2020 - Sheet1 (1).csv\")"
   ]
  },
  {
   "cell_type": "markdown",
   "metadata": {},
   "source": [
    "### Exploracion de datos"
   ]
  },
  {
   "cell_type": "code",
   "execution_count": 3,
   "metadata": {},
   "outputs": [
    {
     "data": {
      "text/html": [
       "<div>\n",
       "<style scoped>\n",
       "    .dataframe tbody tr th:only-of-type {\n",
       "        vertical-align: middle;\n",
       "    }\n",
       "\n",
       "    .dataframe tbody tr th {\n",
       "        vertical-align: top;\n",
       "    }\n",
       "\n",
       "    .dataframe thead th {\n",
       "        text-align: right;\n",
       "    }\n",
       "</style>\n",
       "<table border=\"1\" class=\"dataframe\">\n",
       "  <thead>\n",
       "    <tr style=\"text-align: right;\">\n",
       "      <th></th>\n",
       "      <th>linkedin_id</th>\n",
       "      <th>position_id</th>\n",
       "      <th>position</th>\n",
       "      <th>company</th>\n",
       "      <th>location</th>\n",
       "      <th>level</th>\n",
       "      <th>date</th>\n",
       "      <th>job_functions</th>\n",
       "      <th>industries</th>\n",
       "      <th>description</th>\n",
       "    </tr>\n",
       "  </thead>\n",
       "  <tbody>\n",
       "    <tr>\n",
       "      <th>0</th>\n",
       "      <td>1632901070</td>\n",
       "      <td>51791</td>\n",
       "      <td>Head of Branding Governance Unit</td>\n",
       "      <td>Riyad Bank</td>\n",
       "      <td>Riyadh, Saudi Arabia</td>\n",
       "      <td>Mid-Senior level</td>\n",
       "      <td>6/1/2020</td>\n",
       "      <td>['Marketing', 'Management']</td>\n",
       "      <td>['Banking']</td>\n",
       "      <td>NaN</td>\n",
       "    </tr>\n",
       "    <tr>\n",
       "      <th>1</th>\n",
       "      <td>1628497696</td>\n",
       "      <td>51792</td>\n",
       "      <td>Document Controller</td>\n",
       "      <td>Confidential,Confidential</td>\n",
       "      <td>Riyadh, Saudi Arabia</td>\n",
       "      <td>Associate</td>\n",
       "      <td>6/1/2020</td>\n",
       "      <td>['']</td>\n",
       "      <td>['Government Administration']</td>\n",
       "      <td>Document Controller- (Saudi candidates only)  ...</td>\n",
       "    </tr>\n",
       "    <tr>\n",
       "      <th>2</th>\n",
       "      <td>1666951758</td>\n",
       "      <td>51793</td>\n",
       "      <td>Employee Engagement Specialist</td>\n",
       "      <td>PepsiCo</td>\n",
       "      <td>Riyadh, Saudi Arabia</td>\n",
       "      <td>Mid-Senior level</td>\n",
       "      <td>6/1/2020</td>\n",
       "      <td>['Human Resources']</td>\n",
       "      <td>['Consumer Goods', 'Food &amp; Beverages']</td>\n",
       "      <td>Auto req ID: 199735BRJob DescriptionPepsiCo Sa...</td>\n",
       "    </tr>\n",
       "    <tr>\n",
       "      <th>3</th>\n",
       "      <td>1671138260</td>\n",
       "      <td>51794</td>\n",
       "      <td>Strategic Workforce Analyst</td>\n",
       "      <td>Saudi Air Navigation Services</td>\n",
       "      <td>Jeddah, Saudi Arabia</td>\n",
       "      <td>Mid-Senior level</td>\n",
       "      <td>6/1/2020</td>\n",
       "      <td>['']</td>\n",
       "      <td>['Aviation &amp; Aerospace']</td>\n",
       "      <td>Role PurposeTo conduct workforce analysis to s...</td>\n",
       "    </tr>\n",
       "    <tr>\n",
       "      <th>4</th>\n",
       "      <td>1670725370</td>\n",
       "      <td>51795</td>\n",
       "      <td>Account Manager, GPS – Riyadh</td>\n",
       "      <td>EY</td>\n",
       "      <td>Riyadh, Saudi Arabia</td>\n",
       "      <td>Not Applicable</td>\n",
       "      <td>6/1/2020</td>\n",
       "      <td>['Sales', 'Business Development']</td>\n",
       "      <td>['Accounting', 'Financial Services']</td>\n",
       "      <td>In a business where are our people are our pro...</td>\n",
       "    </tr>\n",
       "  </tbody>\n",
       "</table>\n",
       "</div>"
      ],
      "text/plain": [
       "  linkedin_id  position_id                           position  \\\n",
       "0  1632901070        51791  Head of Branding Governance Unit    \n",
       "1  1628497696        51792                Document Controller   \n",
       "2  1666951758        51793     Employee Engagement Specialist   \n",
       "3  1671138260        51794        Strategic Workforce Analyst   \n",
       "4  1670725370        51795      Account Manager, GPS – Riyadh   \n",
       "\n",
       "                         company              location             level  \\\n",
       "0                     Riyad Bank  Riyadh, Saudi Arabia  Mid-Senior level   \n",
       "1      Confidential,Confidential  Riyadh, Saudi Arabia         Associate   \n",
       "2                        PepsiCo  Riyadh, Saudi Arabia  Mid-Senior level   \n",
       "3  Saudi Air Navigation Services  Jeddah, Saudi Arabia  Mid-Senior level   \n",
       "4                             EY  Riyadh, Saudi Arabia    Not Applicable   \n",
       "\n",
       "       date                      job_functions  \\\n",
       "0  6/1/2020        ['Marketing', 'Management']   \n",
       "1  6/1/2020                               ['']   \n",
       "2  6/1/2020                ['Human Resources']   \n",
       "3  6/1/2020                               ['']   \n",
       "4  6/1/2020  ['Sales', 'Business Development']   \n",
       "\n",
       "                               industries  \\\n",
       "0                             ['Banking']   \n",
       "1           ['Government Administration']   \n",
       "2  ['Consumer Goods', 'Food & Beverages']   \n",
       "3                ['Aviation & Aerospace']   \n",
       "4    ['Accounting', 'Financial Services']   \n",
       "\n",
       "                                         description  \n",
       "0                                                NaN  \n",
       "1  Document Controller- (Saudi candidates only)  ...  \n",
       "2  Auto req ID: 199735BRJob DescriptionPepsiCo Sa...  \n",
       "3  Role PurposeTo conduct workforce analysis to s...  \n",
       "4  In a business where are our people are our pro...  "
      ]
     },
     "execution_count": 3,
     "metadata": {},
     "output_type": "execute_result"
    }
   ],
   "source": [
    "# Explorando las primeras 5 filas\n",
    "jobs.head()"
   ]
  },
  {
   "cell_type": "code",
   "execution_count": 4,
   "metadata": {},
   "outputs": [
    {
     "data": {
      "text/html": [
       "<div>\n",
       "<style scoped>\n",
       "    .dataframe tbody tr th:only-of-type {\n",
       "        vertical-align: middle;\n",
       "    }\n",
       "\n",
       "    .dataframe tbody tr th {\n",
       "        vertical-align: top;\n",
       "    }\n",
       "\n",
       "    .dataframe thead th {\n",
       "        text-align: right;\n",
       "    }\n",
       "</style>\n",
       "<table border=\"1\" class=\"dataframe\">\n",
       "  <thead>\n",
       "    <tr style=\"text-align: right;\">\n",
       "      <th></th>\n",
       "      <th>linkedin_id</th>\n",
       "      <th>position_id</th>\n",
       "      <th>position</th>\n",
       "      <th>company</th>\n",
       "      <th>location</th>\n",
       "      <th>level</th>\n",
       "      <th>date</th>\n",
       "      <th>job_functions</th>\n",
       "      <th>industries</th>\n",
       "      <th>description</th>\n",
       "    </tr>\n",
       "  </thead>\n",
       "  <tbody>\n",
       "    <tr>\n",
       "      <th>48444</th>\n",
       "      <td>2276014180</td>\n",
       "      <td>191741</td>\n",
       "      <td>Sales Associate</td>\n",
       "      <td>Landmark Arabia</td>\n",
       "      <td>Riyadh, Riyadh, Saudi Arabia</td>\n",
       "      <td>Entry level</td>\n",
       "      <td>10/10/2020</td>\n",
       "      <td>['Sales and Business Development']</td>\n",
       "      <td>['Manufacturing, Financial Services, and Retail']</td>\n",
       "      <td>\\n\\n\\nJob DescriptionSales associates work wit...</td>\n",
       "    </tr>\n",
       "    <tr>\n",
       "      <th>48445</th>\n",
       "      <td>2299433047</td>\n",
       "      <td>204967</td>\n",
       "      <td>SA</td>\n",
       "      <td>Landmark Arabia</td>\n",
       "      <td>Riyadh, Riyadh, Saudi Arabia</td>\n",
       "      <td>Not Applicable</td>\n",
       "      <td>16/10/2020</td>\n",
       "      <td>['Other']</td>\n",
       "      <td>['Retail']</td>\n",
       "      <td>\\n\\n\\n        Deliver excellent customer servi...</td>\n",
       "    </tr>\n",
       "    <tr>\n",
       "      <th>48446</th>\n",
       "      <td>2280568685</td>\n",
       "      <td>205102</td>\n",
       "      <td>Restaurant Manager - Nandos</td>\n",
       "      <td>Landmark Arabia</td>\n",
       "      <td>Riyadh, Riyadh, Saudi Arabia</td>\n",
       "      <td>Mid-Senior level</td>\n",
       "      <td>11/10/2020</td>\n",
       "      <td>['Management and Manufacturing']</td>\n",
       "      <td>['Retail']</td>\n",
       "      <td>\\n\\n\\nJOB PURPOSETo consistently deliver the N...</td>\n",
       "    </tr>\n",
       "    <tr>\n",
       "      <th>48447</th>\n",
       "      <td>2275999769</td>\n",
       "      <td>205593</td>\n",
       "      <td>Restaurant Supervisor - Nandos</td>\n",
       "      <td>Landmark Arabia</td>\n",
       "      <td>Riyadh, Riyadh, Saudi Arabia</td>\n",
       "      <td>Mid-Senior level</td>\n",
       "      <td>10/10/2020</td>\n",
       "      <td>['Management and Manufacturing']</td>\n",
       "      <td>['Retail']</td>\n",
       "      <td>\\n\\n\\nJOB PURPOSE Ensure correct and effective...</td>\n",
       "    </tr>\n",
       "    <tr>\n",
       "      <th>48448</th>\n",
       "      <td>2299415687</td>\n",
       "      <td>205877</td>\n",
       "      <td>Group Exercise &amp; Personal Training</td>\n",
       "      <td>Landmark Arabia</td>\n",
       "      <td>Riyadh, Riyadh, Saudi Arabia</td>\n",
       "      <td>Entry level</td>\n",
       "      <td>16/10/2020</td>\n",
       "      <td>['Other']</td>\n",
       "      <td>['Retail']</td>\n",
       "      <td>\\n\\n\\n1-2 years of relevant experience within ...</td>\n",
       "    </tr>\n",
       "  </tbody>\n",
       "</table>\n",
       "</div>"
      ],
      "text/plain": [
       "      linkedin_id  position_id                            position  \\\n",
       "48444  2276014180       191741                     Sales Associate   \n",
       "48445  2299433047       204967                                  SA   \n",
       "48446  2280568685       205102         Restaurant Manager - Nandos   \n",
       "48447  2275999769       205593      Restaurant Supervisor - Nandos   \n",
       "48448  2299415687       205877  Group Exercise & Personal Training   \n",
       "\n",
       "               company                      location             level  \\\n",
       "48444  Landmark Arabia  Riyadh, Riyadh, Saudi Arabia       Entry level   \n",
       "48445  Landmark Arabia  Riyadh, Riyadh, Saudi Arabia    Not Applicable   \n",
       "48446  Landmark Arabia  Riyadh, Riyadh, Saudi Arabia  Mid-Senior level   \n",
       "48447  Landmark Arabia  Riyadh, Riyadh, Saudi Arabia  Mid-Senior level   \n",
       "48448  Landmark Arabia  Riyadh, Riyadh, Saudi Arabia       Entry level   \n",
       "\n",
       "             date                       job_functions  \\\n",
       "48444  10/10/2020  ['Sales and Business Development']   \n",
       "48445  16/10/2020                           ['Other']   \n",
       "48446  11/10/2020    ['Management and Manufacturing']   \n",
       "48447  10/10/2020    ['Management and Manufacturing']   \n",
       "48448  16/10/2020                           ['Other']   \n",
       "\n",
       "                                              industries  \\\n",
       "48444  ['Manufacturing, Financial Services, and Retail']   \n",
       "48445                                         ['Retail']   \n",
       "48446                                         ['Retail']   \n",
       "48447                                         ['Retail']   \n",
       "48448                                         ['Retail']   \n",
       "\n",
       "                                             description  \n",
       "48444  \\n\\n\\nJob DescriptionSales associates work wit...  \n",
       "48445  \\n\\n\\n        Deliver excellent customer servi...  \n",
       "48446  \\n\\n\\nJOB PURPOSETo consistently deliver the N...  \n",
       "48447  \\n\\n\\nJOB PURPOSE Ensure correct and effective...  \n",
       "48448  \\n\\n\\n1-2 years of relevant experience within ...  "
      ]
     },
     "execution_count": 4,
     "metadata": {},
     "output_type": "execute_result"
    }
   ],
   "source": [
    "# Explorando las ultimas 5 filas\n",
    "jobs.tail()"
   ]
  },
  {
   "cell_type": "code",
   "execution_count": 5,
   "metadata": {},
   "outputs": [
    {
     "name": "stdout",
     "output_type": "stream",
     "text": [
      "<class 'pandas.core.frame.DataFrame'>\n",
      "RangeIndex: 48449 entries, 0 to 48448\n",
      "Data columns (total 10 columns):\n",
      " #   Column         Non-Null Count  Dtype \n",
      "---  ------         --------------  ----- \n",
      " 0   linkedin_id    48443 non-null  object\n",
      " 1   position_id    48449 non-null  int64 \n",
      " 2   position       48449 non-null  object\n",
      " 3   company        48447 non-null  object\n",
      " 4   location       48436 non-null  object\n",
      " 5   level          46758 non-null  object\n",
      " 6   date           48449 non-null  object\n",
      " 7   job_functions  48449 non-null  object\n",
      " 8   industries     48449 non-null  object\n",
      " 9   description    45268 non-null  object\n",
      "dtypes: int64(1), object(9)\n",
      "memory usage: 3.7+ MB\n"
     ]
    }
   ],
   "source": [
    "# Inforamcion general del dataframe\n",
    "jobs.info()"
   ]
  },
  {
   "cell_type": "code",
   "execution_count": 6,
   "metadata": {},
   "outputs": [
    {
     "name": "stdout",
     "output_type": "stream",
     "text": [
      "Cantidad de filas:  48449\n"
     ]
    }
   ],
   "source": [
    "#cantidad de filas\n",
    "print(\"Cantidad de filas: \" ,len(jobs) )"
   ]
  },
  {
   "cell_type": "code",
   "execution_count": 7,
   "metadata": {},
   "outputs": [
    {
     "data": {
      "text/plain": [
       "linkedin_id         6\n",
       "position_id         0\n",
       "position            0\n",
       "company             2\n",
       "location           13\n",
       "level            1691\n",
       "date                0\n",
       "job_functions       0\n",
       "industries          0\n",
       "description      3181\n",
       "dtype: int64"
      ]
     },
     "execution_count": 7,
     "metadata": {},
     "output_type": "execute_result"
    }
   ],
   "source": [
    "#Datos nulos del dataframe\n",
    "jobs.isnull().sum()"
   ]
  },
  {
   "cell_type": "code",
   "execution_count": 8,
   "metadata": {},
   "outputs": [
    {
     "data": {
      "text/plain": [
       "<Axes: title={'center': 'Datos Nulos'}>"
      ]
     },
     "execution_count": 8,
     "metadata": {},
     "output_type": "execute_result"
    },
    {
     "data": {
      "image/png": "[encoded data removed]",
      "text/plain": [
       "<Figure size 1200x800 with 2 Axes>"
      ]
     },
     "metadata": {},
     "output_type": "display_data"
    }
   ],
   "source": [
    "#Visualizando de datos\n",
    "#Armado de figura\n",
    "plt.figure(\"datos nulos\",figsize=(12,8), facecolor=\"black\")\n",
    "plt.title('Datos Nulos', color='white', fontsize=19)     \n",
    "plt.xticks(color='white', fontsize=15)      \n",
    "plt.yticks(color='white', fontsize=15)  \n",
    "\n",
    "# Plot\n",
    "sns.heatmap(jobs.isnull(),cmap='Blues_r')"
   ]
  },
  {
   "cell_type": "code",
   "execution_count": 9,
   "metadata": {},
   "outputs": [
    {
     "name": "stdout",
     "output_type": "stream",
     "text": [
      "Filas duplicadas: 8656\n",
      "Lindkedin ids duplicados: 6016\n",
      "\n",
      "Valores unicos por columna:\n",
      "description      33006\n",
      "industries        3454\n",
      "company           6967\n",
      "location           294\n",
      "level                7\n",
      "position         21141\n",
      "job_functions     2603\n",
      "dtype: int64\n"
     ]
    }
   ],
   "source": [
    "\n",
    "# Observacion de filas unicas y duplicadas por columna\n",
    "columnas = [\"description\",\"industries\", \"company\", \"location\", \"level\", \"position\", \"job_functions\"]\n",
    "\n",
    "filas_duplicadas = jobs[columnas].duplicated().sum()\n",
    "\n",
    "linkedin_id_duplicados = jobs[\"linkedin_id\"].duplicated(keep=False).sum()\n",
    "\n",
    "valores_unicos = jobs[columnas].nunique()\n",
    "\n",
    "print(f\"Filas duplicadas: {filas_duplicadas}\")\n",
    "print(f\"Lindkedin ids duplicados: {linkedin_id_duplicados}\")\n",
    "print(\"\\nValores unicos por columna:\")\n",
    "print(valores_unicos)"
   ]
  },
  {
   "cell_type": "code",
   "execution_count": 10,
   "metadata": {},
   "outputs": [
    {
     "name": "stdout",
     "output_type": "stream",
     "text": [
      "Valores unicos de level:  ['Mid-Senior level' 'Associate' 'Not Applicable' 'Director' nan\n",
      " 'Entry level' 'Executive' 'Internship']\n"
     ]
    }
   ],
   "source": [
    "print(\"Valores unicos de level: \", jobs[\"level\"].unique())"
   ]
  },
  {
   "cell_type": "markdown",
   "metadata": {},
   "source": [
    "## Transformacion de datos\n"
   ]
  },
  {
   "cell_type": "code",
   "execution_count": 11,
   "metadata": {},
   "outputs": [],
   "source": [
    "# Agregar columna de ciudad y estado. Extrayendolas de la columna ubicacion\n",
    "jobs['city'] = jobs['location'].str.extract('([A-Za-z]+)\\,', expand=False)"
   ]
  },
  {
   "cell_type": "code",
   "execution_count": 12,
   "metadata": {},
   "outputs": [],
   "source": [
    "# Cambiar tipo de dato de date a datetype\n",
    "jobs[\"date\"] = pd.to_datetime(jobs[\"date\"], dayfirst=True)"
   ]
  },
  {
   "cell_type": "code",
   "execution_count": 13,
   "metadata": {},
   "outputs": [],
   "source": [
    "# Agregar columna mes, dia y quartos a partir de columna date\n",
    "jobs['day'] = jobs['date'].dt.strftime(\"%A\")\n",
    "jobs['month'] = jobs['date'].dt.strftime(\"%B\")\n",
    "jobs['quarter'] = pd.DatetimeIndex(jobs['date']).quarter\n"
   ]
  },
  {
   "cell_type": "code",
   "execution_count": 14,
   "metadata": {},
   "outputs": [
    {
     "name": "stdout",
     "output_type": "stream",
     "text": [
      "<class 'list'>\n",
      "<class 'list'>\n"
     ]
    }
   ],
   "source": [
    "#Cambiando tipo de dato string a list de la columna industries y job functions\n",
    "#Si es la primera vez que se ejecuta esta cell, descomentar el codigo, sino comentarlo\n",
    "\n",
    "jobs['job_functions'] = jobs['job_functions'].apply(lambda x: ast.literal_eval(x) if pd.notnull(x) else x)\n",
    "jobs['industries'] = jobs['industries'].apply(lambda x: ast.literal_eval(x) if pd.notnull(x) else x)\n",
    "print(type(jobs['industries'].iloc[0]))\n",
    "print(type(jobs['job_functions'].iloc[0]))"
   ]
  },
  {
   "cell_type": "code",
   "execution_count": 15,
   "metadata": {},
   "outputs": [],
   "source": [
    "# Aca separo cada industria de industries y cada trabajo de job_functions en columnas separadas\n",
    "#Decomentar el codigo si es la primera vez que se ejecuta\n",
    "\n",
    "jobs['industries'] = jobs['industries'].apply(lambda x: ast.literal_eval(x) if isinstance(x, str) else (x if isinstance(x, list) else []))\n",
    "industry_split = pd.DataFrame(jobs['industries'].to_list())\n",
    "industry_split.columns = [f'industry_{i+1}' for i in industry_split.columns]\n",
    "\n",
    "jobs['job_functions'] = jobs['job_functions'].apply(lambda x: ast.literal_eval(x) if isinstance(x, str) else x)\n",
    "jobs['job_functions'] = jobs['job_functions'].apply(lambda x: x if isinstance(x, list) else [])\n",
    "job_split = pd.DataFrame(jobs['job_functions'].to_list())\n",
    "job_split.columns = [f'job_function_{i+1}' for i in job_split.columns]\n",
    "\n",
    "# agregando las nuevas columnas\n",
    "\n",
    "jobs_modified_1 = pd.concat([jobs, industry_split], axis=1)\n",
    "jobs_modified_2 = pd.concat([jobs_modified_1, job_split], axis=1)"
   ]
  },
  {
   "cell_type": "code",
   "execution_count": 16,
   "metadata": {},
   "outputs": [],
   "source": [
    "#Limpiando datos vacios\n",
    "for column in jobs_modified_2.columns:\n",
    "   jobs_modified_2[column] = jobs_modified_2[column].replace([\"None\",\" \", \"\", r\"\\[''\\]\"], np.nan)  "
   ]
  },
  {
   "cell_type": "code",
   "execution_count": 17,
   "metadata": {},
   "outputs": [],
   "source": [
    "# Eliminar filas con linkedin_id duplicados. Conservando la primera instancia por fecha. \n",
    "# Primero ordeno las filas por fecha.\n",
    "jobs_modified_2.sort_values(by='date', ascending=False, inplace=True)\n",
    "# Luego suelto la primera instancia, que seria la menos actualizada.\n",
    "jobs_modified_2.drop_duplicates(subset='linkedin_id', keep='first', inplace=True)\n",
    "# Reseteo el index/orden  \n",
    "jobs_modified_2.reset_index(drop=True, inplace=True)\n",
    "\n"
   ]
  },
  {
   "cell_type": "code",
   "execution_count": 18,
   "metadata": {},
   "outputs": [],
   "source": [
    "#Drop de columnas no necesarias\n",
    "jobs_modified_2.drop(['location',\"description\",'industries','job_functions'],axis=1,inplace=True)\n",
    "\n"
   ]
  },
  {
   "cell_type": "code",
   "execution_count": 19,
   "metadata": {},
   "outputs": [],
   "source": [
    "# Ubicaciones nulas deben ser remotas\n",
    "jobs_modified_2[\"city\"] = jobs_modified_2[\"city\"].fillna(\"remote\")\n"
   ]
  },
  {
   "cell_type": "code",
   "execution_count": 20,
   "metadata": {},
   "outputs": [
    {
     "data": {
      "text/html": [
       "<div>\n",
       "<style scoped>\n",
       "    .dataframe tbody tr th:only-of-type {\n",
       "        vertical-align: middle;\n",
       "    }\n",
       "\n",
       "    .dataframe tbody tr th {\n",
       "        vertical-align: top;\n",
       "    }\n",
       "\n",
       "    .dataframe thead th {\n",
       "        text-align: right;\n",
       "    }\n",
       "</style>\n",
       "<table border=\"1\" class=\"dataframe\">\n",
       "  <thead>\n",
       "    <tr style=\"text-align: right;\">\n",
       "      <th></th>\n",
       "      <th>linkedin_id</th>\n",
       "      <th>position_id</th>\n",
       "      <th>position</th>\n",
       "      <th>company</th>\n",
       "      <th>level</th>\n",
       "      <th>date</th>\n",
       "      <th>city</th>\n",
       "      <th>day</th>\n",
       "      <th>month</th>\n",
       "      <th>quarter</th>\n",
       "      <th>industry_1</th>\n",
       "      <th>industry_2</th>\n",
       "      <th>industry_3</th>\n",
       "      <th>job_function_1</th>\n",
       "      <th>job_function_2</th>\n",
       "      <th>job_function_3</th>\n",
       "    </tr>\n",
       "  </thead>\n",
       "  <tbody>\n",
       "  </tbody>\n",
       "</table>\n",
       "</div>"
      ],
      "text/plain": [
       "Empty DataFrame\n",
       "Columns: [linkedin_id, position_id, position, company, level, date, city, day, month, quarter, industry_1, industry_2, industry_3, job_function_1, job_function_2, job_function_3]\n",
       "Index: []"
      ]
     },
     "execution_count": 20,
     "metadata": {},
     "output_type": "execute_result"
    }
   ],
   "source": [
    "jobs_modified_2[jobs_modified_2[\"city\"].isnull()]\n"
   ]
  },
  {
   "cell_type": "code",
   "execution_count": 21,
   "metadata": {},
   "outputs": [
    {
     "name": "stdout",
     "output_type": "stream",
     "text": [
      "<class 'pandas.core.frame.DataFrame'>\n",
      "RangeIndex: 44890 entries, 0 to 44889\n",
      "Data columns (total 16 columns):\n",
      " #   Column          Non-Null Count  Dtype         \n",
      "---  ------          --------------  -----         \n",
      " 0   linkedin_id     44889 non-null  object        \n",
      " 1   position_id     44890 non-null  int64         \n",
      " 2   position        44890 non-null  object        \n",
      " 3   company         44888 non-null  object        \n",
      " 4   level           43395 non-null  object        \n",
      " 5   date            44890 non-null  datetime64[ns]\n",
      " 6   city            44890 non-null  object        \n",
      " 7   day             44890 non-null  object        \n",
      " 8   month           44890 non-null  object        \n",
      " 9   quarter         44890 non-null  int32         \n",
      " 10  industry_1      41166 non-null  object        \n",
      " 11  industry_2      21534 non-null  object        \n",
      " 12  industry_3      17937 non-null  object        \n",
      " 13  job_function_1  41119 non-null  object        \n",
      " 14  job_function_2  28624 non-null  object        \n",
      " 15  job_function_3  7966 non-null   object        \n",
      "dtypes: datetime64[ns](1), int32(1), int64(1), object(13)\n",
      "memory usage: 5.3+ MB\n"
     ]
    }
   ],
   "source": [
    "jobs_modified_2.info()"
   ]
  },
  {
   "cell_type": "code",
   "execution_count": 22,
   "metadata": {},
   "outputs": [
    {
     "name": "stdout",
     "output_type": "stream",
     "text": [
      "Cantidad de filas:  44890\n",
      "Cantidad de nulos:  linkedin_id           1\n",
      "position_id           0\n",
      "position              0\n",
      "company               2\n",
      "level              1495\n",
      "date                  0\n",
      "city                  0\n",
      "day                   0\n",
      "month                 0\n",
      "quarter               0\n",
      "industry_1         3724\n",
      "industry_2        23356\n",
      "industry_3        26953\n",
      "job_function_1     3771\n",
      "job_function_2    16266\n",
      "job_function_3    36924\n",
      "dtype: int64\n",
      "Cantidad de duplicados linkedin_id:  0\n",
      "Valores Unicos\n"
     ]
    },
    {
     "data": {
      "text/plain": [
       "position          21030\n",
       "company            6957\n",
       "level                 7\n",
       "city                209\n",
       "industry_1          166\n",
       "industry_2          160\n",
       "industry_3          157\n",
       "job_function_1       83\n",
       "job_function_2       67\n",
       "job_function_3       60\n",
       "dtype: int64"
      ]
     },
     "execution_count": 22,
     "metadata": {},
     "output_type": "execute_result"
    }
   ],
   "source": [
    "# Corroboro que ya no hayas duplicados, cantidad de fullas y nulos\n",
    "print(\"Cantidad de filas: \" ,len(jobs_modified_2) )\n",
    "print(\"Cantidad de nulos: \" ,jobs_modified_2.isnull().sum() )\n",
    "print(\"Cantidad de duplicados linkedin_id: \" ,jobs_modified_2[\"linkedin_id\"].duplicated().sum() )\n",
    "print(\"Valores Unicos\")\n",
    "jobs_modified_2[[\"position\", \"company\",\"level\",\"city\",\"industry_1\",\"industry_2\",\"industry_3\",\"job_function_1\",\"job_function_2\",\"job_function_3\"]].nunique()"
   ]
  },
  {
   "cell_type": "code",
   "execution_count": 23,
   "metadata": {},
   "outputs": [
    {
     "data": {
      "text/html": [
       "<div>\n",
       "<style scoped>\n",
       "    .dataframe tbody tr th:only-of-type {\n",
       "        vertical-align: middle;\n",
       "    }\n",
       "\n",
       "    .dataframe tbody tr th {\n",
       "        vertical-align: top;\n",
       "    }\n",
       "\n",
       "    .dataframe thead th {\n",
       "        text-align: right;\n",
       "    }\n",
       "</style>\n",
       "<table border=\"1\" class=\"dataframe\">\n",
       "  <thead>\n",
       "    <tr style=\"text-align: right;\">\n",
       "      <th></th>\n",
       "      <th>linkedin_id</th>\n",
       "      <th>position_id</th>\n",
       "      <th>position</th>\n",
       "      <th>company</th>\n",
       "      <th>level</th>\n",
       "      <th>date</th>\n",
       "      <th>city</th>\n",
       "      <th>day</th>\n",
       "      <th>month</th>\n",
       "      <th>quarter</th>\n",
       "      <th>industry_1</th>\n",
       "      <th>industry_2</th>\n",
       "      <th>industry_3</th>\n",
       "      <th>job_function_1</th>\n",
       "      <th>job_function_2</th>\n",
       "      <th>job_function_3</th>\n",
       "    </tr>\n",
       "  </thead>\n",
       "  <tbody>\n",
       "    <tr>\n",
       "      <th>0</th>\n",
       "      <td>2362841152</td>\n",
       "      <td>102381</td>\n",
       "      <td>supervisor</td>\n",
       "      <td>Landmark Arabia</td>\n",
       "      <td>Mid-Senior level</td>\n",
       "      <td>2020-12-31</td>\n",
       "      <td>Riyadh</td>\n",
       "      <td>Thursday</td>\n",
       "      <td>December</td>\n",
       "      <td>4</td>\n",
       "      <td>Marketing and Advertising</td>\n",
       "      <td>Consumer Goods</td>\n",
       "      <td>Retail</td>\n",
       "      <td>Other</td>\n",
       "      <td>None</td>\n",
       "      <td>None</td>\n",
       "    </tr>\n",
       "    <tr>\n",
       "      <th>1</th>\n",
       "      <td>2363584144</td>\n",
       "      <td>102505</td>\n",
       "      <td>Social Auditor - Contractor</td>\n",
       "      <td>Lloyd'S Register Group</td>\n",
       "      <td>Associate</td>\n",
       "      <td>2020-12-31</td>\n",
       "      <td>Khobar</td>\n",
       "      <td>Thursday</td>\n",
       "      <td>December</td>\n",
       "      <td>4</td>\n",
       "      <td>Electrical/Electronic Manufacturing</td>\n",
       "      <td>None</td>\n",
       "      <td>None</td>\n",
       "      <td>Accounting/Auditing</td>\n",
       "      <td>Finance</td>\n",
       "      <td>None</td>\n",
       "    </tr>\n",
       "    <tr>\n",
       "      <th>2</th>\n",
       "      <td>2363578492</td>\n",
       "      <td>102489</td>\n",
       "      <td>Sales Engineer</td>\n",
       "      <td>Rawabi Holding Co.</td>\n",
       "      <td>Entry level</td>\n",
       "      <td>2020-12-31</td>\n",
       "      <td>Dammam</td>\n",
       "      <td>Thursday</td>\n",
       "      <td>December</td>\n",
       "      <td>4</td>\n",
       "      <td>Marketing and Advertising</td>\n",
       "      <td>None</td>\n",
       "      <td>None</td>\n",
       "      <td>Sales</td>\n",
       "      <td>Business Development</td>\n",
       "      <td>None</td>\n",
       "    </tr>\n",
       "    <tr>\n",
       "      <th>3</th>\n",
       "      <td>2345271248</td>\n",
       "      <td>102490</td>\n",
       "      <td>Area Sales Manager - Petromin Automotive</td>\n",
       "      <td>Petromin Corporation</td>\n",
       "      <td>Mid-Senior level</td>\n",
       "      <td>2020-12-31</td>\n",
       "      <td>Ahsa</td>\n",
       "      <td>Thursday</td>\n",
       "      <td>December</td>\n",
       "      <td>4</td>\n",
       "      <td>Automotive</td>\n",
       "      <td>None</td>\n",
       "      <td>None</td>\n",
       "      <td>Sales</td>\n",
       "      <td>Business Development</td>\n",
       "      <td>Management</td>\n",
       "    </tr>\n",
       "    <tr>\n",
       "      <th>4</th>\n",
       "      <td>2363583496</td>\n",
       "      <td>102491</td>\n",
       "      <td>EBC Coordinator</td>\n",
       "      <td>Marriott International, Inc</td>\n",
       "      <td>Associate</td>\n",
       "      <td>2020-12-31</td>\n",
       "      <td>Riyadh</td>\n",
       "      <td>Thursday</td>\n",
       "      <td>December</td>\n",
       "      <td>4</td>\n",
       "      <td>Food &amp; Beverages</td>\n",
       "      <td>None</td>\n",
       "      <td>None</td>\n",
       "      <td>Other</td>\n",
       "      <td>None</td>\n",
       "      <td>None</td>\n",
       "    </tr>\n",
       "  </tbody>\n",
       "</table>\n",
       "</div>"
      ],
      "text/plain": [
       "  linkedin_id  position_id                                  position  \\\n",
       "0  2362841152       102381                                supervisor   \n",
       "1  2363584144       102505               Social Auditor - Contractor   \n",
       "2  2363578492       102489                            Sales Engineer   \n",
       "3  2345271248       102490  Area Sales Manager - Petromin Automotive   \n",
       "4  2363583496       102491                           EBC Coordinator   \n",
       "\n",
       "                       company             level       date    city       day  \\\n",
       "0              Landmark Arabia  Mid-Senior level 2020-12-31  Riyadh  Thursday   \n",
       "1       Lloyd'S Register Group         Associate 2020-12-31  Khobar  Thursday   \n",
       "2           Rawabi Holding Co.       Entry level 2020-12-31  Dammam  Thursday   \n",
       "3         Petromin Corporation  Mid-Senior level 2020-12-31    Ahsa  Thursday   \n",
       "4  Marriott International, Inc         Associate 2020-12-31  Riyadh  Thursday   \n",
       "\n",
       "      month  quarter                           industry_1      industry_2  \\\n",
       "0  December        4            Marketing and Advertising  Consumer Goods   \n",
       "1  December        4  Electrical/Electronic Manufacturing            None   \n",
       "2  December        4            Marketing and Advertising            None   \n",
       "3  December        4                           Automotive            None   \n",
       "4  December        4                     Food & Beverages            None   \n",
       "\n",
       "  industry_3       job_function_1        job_function_2 job_function_3  \n",
       "0     Retail                Other                  None           None  \n",
       "1       None  Accounting/Auditing               Finance           None  \n",
       "2       None                Sales  Business Development           None  \n",
       "3       None                Sales  Business Development     Management  \n",
       "4       None                Other                  None           None  "
      ]
     },
     "execution_count": 23,
     "metadata": {},
     "output_type": "execute_result"
    }
   ],
   "source": [
    "jobs_modified_2.head()"
   ]
  },
  {
   "cell_type": "markdown",
   "metadata": {},
   "source": [
    "### Transformacion de variables categorias a numericas"
   ]
  },
  {
   "cell_type": "code",
   "execution_count": 24,
   "metadata": {},
   "outputs": [],
   "source": [
    "#Tabla donde las variables categoricas son representadas por variables numericas para posterior analisis\n",
    "# level."
   ]
  }
 ],
 "metadata": {
  "kernelspec": {
   "display_name": "Python 3",
   "language": "python",
   "name": "python3"
  },
  "language_info": {
   "codemirror_mode": {
    "name": "ipython",
    "version": 3
   },
   "file_extension": ".py",
   "mimetype": "text/x-python",
   "name": "python",
   "nbconvert_exporter": "python",
   "pygments_lexer": "ipython3",
   "version": "3.9.13"
  }
 },
 "nbformat": 4,
 "nbformat_minor": 2
}
